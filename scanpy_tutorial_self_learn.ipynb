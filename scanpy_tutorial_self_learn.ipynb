{
  "nbformat": 4,
  "nbformat_minor": 0,
  "metadata": {
    "colab": {
      "name": "scanpy_tutorial_self_learn.ipynb",
      "provenance": [],
      "authorship_tag": "ABX9TyMvVgaYYKlMwH+beNjYko0Z",
      "include_colab_link": true
    },
    "kernelspec": {
      "name": "python3",
      "display_name": "Python 3"
    }
  },
  "cells": [
    {
      "cell_type": "markdown",
      "metadata": {
        "id": "view-in-github",
        "colab_type": "text"
      },
      "source": [
        "<a href=\"https://colab.research.google.com/github/1221echo/YL/blob/master/scanpy_tutorial_self_learn.ipynb\" target=\"_parent\"><img src=\"https://colab.research.google.com/assets/colab-badge.svg\" alt=\"Open In Colab\"/></a>"
      ]
    },
    {
      "cell_type": "code",
      "metadata": {
        "id": "wzApjBdWRL2_",
        "colab_type": "code",
        "colab": {
          "base_uri": "https://localhost:8080/",
          "height": 224
        },
        "outputId": "608c9861-2fb0-41e9-cabc-299838c0b0d9"
      },
      "source": [
        "!mkdir data\n",
        "!wget http://cf.10xgenomics.com/samples/cell-exp/1.1.0/pbmc3k/pbmc3k_filtered_gene_bc_matrices.tar.gz -O data/pbmc3k_filtered_gene_bc_matrices.tar.gz\n",
        "!cd data; tar -xzf pbmc3k_filtered_gene_bc_matrices.tar.gz"
      ],
      "execution_count": 1,
      "outputs": [
        {
          "output_type": "stream",
          "text": [
            "--2020-03-29 03:12:07--  http://cf.10xgenomics.com/samples/cell-exp/1.1.0/pbmc3k/pbmc3k_filtered_gene_bc_matrices.tar.gz\n",
            "Resolving cf.10xgenomics.com (cf.10xgenomics.com)... 13.225.103.8, 13.225.103.118, 13.225.103.117, ...\n",
            "Connecting to cf.10xgenomics.com (cf.10xgenomics.com)|13.225.103.8|:80... connected.\n",
            "HTTP request sent, awaiting response... 200 OK\n",
            "Length: 7621991 (7.3M) [application/x-tar]\n",
            "Saving to: ‘data/pbmc3k_filtered_gene_bc_matrices.tar.gz’\n",
            "\n",
            "data/pbmc3k_filtere 100%[===================>]   7.27M  5.56MB/s    in 1.3s    \n",
            "\n",
            "2020-03-29 03:12:10 (5.56 MB/s) - ‘data/pbmc3k_filtered_gene_bc_matrices.tar.gz’ saved [7621991/7621991]\n",
            "\n"
          ],
          "name": "stdout"
        }
      ]
    },
    {
      "cell_type": "code",
      "metadata": {
        "id": "WtYvfQ9rR949",
        "colab_type": "code",
        "colab": {
          "base_uri": "https://localhost:8080/",
          "height": 921
        },
        "outputId": "d0f62471-6d2d-46a7-9cfe-cdb73fd5a3d4"
      },
      "source": [
        "\n",
        "!pip install numpy\n",
        "!pip install scipy\n",
        "!pip install pandas\n",
        "!pip install scanpy"
      ],
      "execution_count": 3,
      "outputs": [
        {
          "output_type": "stream",
          "text": [
            "Requirement already satisfied: numpy in /usr/local/lib/python3.6/dist-packages (1.18.2)\n",
            "Requirement already satisfied: scipy in /usr/local/lib/python3.6/dist-packages (1.4.1)\n",
            "Requirement already satisfied: numpy>=1.13.3 in /usr/local/lib/python3.6/dist-packages (from scipy) (1.18.2)\n",
            "Requirement already satisfied: pandas in /usr/local/lib/python3.6/dist-packages (0.25.3)\n",
            "Requirement already satisfied: pytz>=2017.2 in /usr/local/lib/python3.6/dist-packages (from pandas) (2018.9)\n",
            "Requirement already satisfied: python-dateutil>=2.6.1 in /usr/local/lib/python3.6/dist-packages (from pandas) (2.8.1)\n",
            "Requirement already satisfied: numpy>=1.13.3 in /usr/local/lib/python3.6/dist-packages (from pandas) (1.18.2)\n",
            "Requirement already satisfied: six>=1.5 in /usr/local/lib/python3.6/dist-packages (from python-dateutil>=2.6.1->pandas) (1.12.0)\n",
            "Collecting scanpy\n",
            "\u001b[?25l  Downloading https://files.pythonhosted.org/packages/e8/e0/6772a65571401bfc9c28be86cbff8aab0a33d82ae9dd53f238acbaa693bc/scanpy-1.4.6-py3-none-any.whl (7.2MB)\n",
            "\u001b[K     |████████████████████████████████| 7.2MB 1.4MB/s \n",
            "\u001b[?25hRequirement already satisfied: scikit-learn>=0.21.2 in /usr/local/lib/python3.6/dist-packages (from scanpy) (0.22.2.post1)\n",
            "Requirement already satisfied: statsmodels>=0.10.0rc2 in /usr/local/lib/python3.6/dist-packages (from scanpy) (0.10.2)\n",
            "Requirement already satisfied: scipy>=1.3 in /usr/local/lib/python3.6/dist-packages (from scanpy) (1.4.1)\n",
            "Requirement already satisfied: h5py>=2.10.0 in /usr/local/lib/python3.6/dist-packages (from scanpy) (2.10.0)\n",
            "Requirement already satisfied: networkx in /usr/local/lib/python3.6/dist-packages (from scanpy) (2.4)\n",
            "Requirement already satisfied: natsort in /usr/local/lib/python3.6/dist-packages (from scanpy) (5.5.0)\n",
            "Collecting anndata>=0.7\n",
            "\u001b[?25l  Downloading https://files.pythonhosted.org/packages/5b/c8/5c594a95ba293433dfe1cf188075ccbabe495bf2d291be744974aca85ffc/anndata-0.7.1-py3-none-any.whl (97kB)\n",
            "\u001b[K     |████████████████████████████████| 102kB 8.8MB/s \n",
            "\u001b[?25hRequirement already satisfied: joblib in /usr/local/lib/python3.6/dist-packages (from scanpy) (0.14.1)\n",
            "Requirement already satisfied: patsy in /usr/local/lib/python3.6/dist-packages (from scanpy) (0.5.1)\n",
            "Requirement already satisfied: importlib-metadata>=0.7; python_version < \"3.8\" in /usr/local/lib/python3.6/dist-packages (from scanpy) (1.5.0)\n",
            "Requirement already satisfied: numba>=0.41.0 in /usr/local/lib/python3.6/dist-packages (from scanpy) (0.47.0)\n",
            "Requirement already satisfied: packaging in /usr/local/lib/python3.6/dist-packages (from scanpy) (20.3)\n",
            "Requirement already satisfied: pandas>=0.21 in /usr/local/lib/python3.6/dist-packages (from scanpy) (0.25.3)\n",
            "Requirement already satisfied: tqdm in /usr/local/lib/python3.6/dist-packages (from scanpy) (4.38.0)\n",
            "Requirement already satisfied: umap-learn>=0.3.10 in /usr/local/lib/python3.6/dist-packages (from scanpy) (0.3.10)\n",
            "Requirement already satisfied: matplotlib>=3.1.2 in /usr/local/lib/python3.6/dist-packages (from scanpy) (3.2.1)\n",
            "Collecting legacy-api-wrap\n",
            "  Downloading https://files.pythonhosted.org/packages/a4/68/da997bc56bb69dcdcee4054f0bc42266909307b905389fbc54c9158f42da/legacy_api_wrap-1.2-py3-none-any.whl\n",
            "Requirement already satisfied: seaborn in /usr/local/lib/python3.6/dist-packages (from scanpy) (0.10.0)\n",
            "Collecting setuptools-scm\n",
            "  Downloading https://files.pythonhosted.org/packages/4b/c1/118ec08816737cc46b4dd93b22f7a138fbfb14b53f4b4718fd9983e70a50/setuptools_scm-3.5.0-py2.py3-none-any.whl\n",
            "Requirement already satisfied: tables in /usr/local/lib/python3.6/dist-packages (from scanpy) (3.4.4)\n",
            "Requirement already satisfied: numpy>=1.11.0 in /usr/local/lib/python3.6/dist-packages (from scikit-learn>=0.21.2->scanpy) (1.18.2)\n",
            "Requirement already satisfied: six in /usr/local/lib/python3.6/dist-packages (from h5py>=2.10.0->scanpy) (1.12.0)\n",
            "Requirement already satisfied: decorator>=4.3.0 in /usr/local/lib/python3.6/dist-packages (from networkx->scanpy) (4.4.2)\n",
            "Requirement already satisfied: zipp>=0.5 in /usr/local/lib/python3.6/dist-packages (from importlib-metadata>=0.7; python_version < \"3.8\"->scanpy) (3.1.0)\n",
            "Requirement already satisfied: llvmlite>=0.31.0dev0 in /usr/local/lib/python3.6/dist-packages (from numba>=0.41.0->scanpy) (0.31.0)\n",
            "Requirement already satisfied: setuptools in /usr/local/lib/python3.6/dist-packages (from numba>=0.41.0->scanpy) (46.0.0)\n",
            "Requirement already satisfied: pyparsing>=2.0.2 in /usr/local/lib/python3.6/dist-packages (from packaging->scanpy) (2.4.6)\n",
            "Requirement already satisfied: python-dateutil>=2.6.1 in /usr/local/lib/python3.6/dist-packages (from pandas>=0.21->scanpy) (2.8.1)\n",
            "Requirement already satisfied: pytz>=2017.2 in /usr/local/lib/python3.6/dist-packages (from pandas>=0.21->scanpy) (2018.9)\n",
            "Requirement already satisfied: cycler>=0.10 in /usr/local/lib/python3.6/dist-packages (from matplotlib>=3.1.2->scanpy) (0.10.0)\n",
            "Requirement already satisfied: kiwisolver>=1.0.1 in /usr/local/lib/python3.6/dist-packages (from matplotlib>=3.1.2->scanpy) (1.1.0)\n",
            "Collecting get-version>=2.0.4\n",
            "\u001b[?25l  Downloading https://files.pythonhosted.org/packages/23/48/7610e884e62fff2183e7bc8592397c39a020267fb5147905fcd3f9cc820c/get_version-2.1-py3-none-any.whl (43kB)\n",
            "\u001b[K     |████████████████████████████████| 51kB 6.7MB/s \n",
            "\u001b[?25hRequirement already satisfied: numexpr>=2.5.2 in /usr/local/lib/python3.6/dist-packages (from tables->scanpy) (2.7.1)\n",
            "Installing collected packages: anndata, get-version, legacy-api-wrap, setuptools-scm, scanpy\n",
            "Successfully installed anndata-0.7.1 get-version-2.1 legacy-api-wrap-1.2 scanpy-1.4.6 setuptools-scm-3.5.0\n"
          ],
          "name": "stdout"
        }
      ]
    },
    {
      "cell_type": "code",
      "metadata": {
        "id": "U3h31QdQRlAK",
        "colab_type": "code",
        "colab": {}
      },
      "source": [
        "import numpy as np\n",
        "import pandas as pd\n",
        "import scanpy as sc"
      ],
      "execution_count": 0,
      "outputs": []
    },
    {
      "cell_type": "code",
      "metadata": {
        "id": "Grg8-h1tTKE2",
        "colab_type": "code",
        "colab": {}
      },
      "source": [
        "sc.settings.verbosity = 3             # verbosity: errors (0), warnings (1), info (2), hints (3)\n",
        "sc.logging.print_versions()\n",
        "sc.settings.set_figure_params(dpi=80)      #Set resolution/size, styling and format of figures."
      ],
      "execution_count": 0,
      "outputs": []
    },
    {
      "cell_type": "code",
      "metadata": {
        "id": "NXPa8LlKR8CL",
        "colab_type": "code",
        "colab": {}
      },
      "source": [
        "results_file = './write/pbmc3k.h5ad'  # the file that will store the analysis results"
      ],
      "execution_count": 0,
      "outputs": []
    },
    {
      "cell_type": "code",
      "metadata": {
        "id": "3snrwnKNRw52",
        "colab_type": "code",
        "colab": {}
      },
      "source": [
        "adata = sc.read_10x_mtx(\n",
        "    './data/filtered_gene_bc_matrices/hg19/',  # the directory with the `.mtx` file\n",
        "    var_names='gene_symbols',                  # use gene symbols for the variable names (variables-axis index)\n",
        "    cache=True)                                # write a cache file for faster subsequent reading"
      ],
      "execution_count": 0,
      "outputs": []
    },
    {
      "cell_type": "code",
      "metadata": {
        "id": "Y8NklqiqT9S8",
        "colab_type": "code",
        "colab": {}
      },
      "source": [
        "adata.var_names_make_unique()  # this is unnecessary if using `var_names='gene_ids'` in `sc.read_10x_mtx`"
      ],
      "execution_count": 0,
      "outputs": []
    },
    {
      "cell_type": "markdown",
      "metadata": {
        "id": "t4rljGm8Uqqo",
        "colab_type": "text"
      },
      "source": [
        "I don't understand why use gene_id then it's unnessary"
      ]
    },
    {
      "cell_type": "code",
      "metadata": {
        "id": "t1kCnxBXT9eZ",
        "colab_type": "code",
        "colab": {
          "base_uri": "https://localhost:8080/",
          "height": 51
        },
        "outputId": "8b320ca7-43b9-419c-8749-b973042212a9"
      },
      "source": [
        "adata"
      ],
      "execution_count": 10,
      "outputs": [
        {
          "output_type": "execute_result",
          "data": {
            "text/plain": [
              "AnnData object with n_obs × n_vars = 2700 × 32738 \n",
              "    var: 'gene_ids'"
            ]
          },
          "metadata": {
            "tags": []
          },
          "execution_count": 10
        }
      ]
    },
    {
      "cell_type": "markdown",
      "metadata": {
        "id": "wcvZiCzaUpPD",
        "colab_type": "text"
      },
      "source": [
        "why the var is gene? I think it should be gene_symbols?"
      ]
    },
    {
      "cell_type": "code",
      "metadata": {
        "id": "lweCezsVVKf5",
        "colab_type": "code",
        "colab": {
          "base_uri": "https://localhost:8080/",
          "height": 513
        },
        "outputId": "bdc04c46-44de-47bc-f4a8-dd0c2f85cf0a"
      },
      "source": [
        "help(sc.read_10x_mtx)"
      ],
      "execution_count": 11,
      "outputs": [
        {
          "output_type": "stream",
          "text": [
            "Help on function read_10x_mtx in module scanpy.readwrite:\n",
            "\n",
            "read_10x_mtx(path:Union[pathlib.Path, str], var_names:scanpy._compat.Literal_='gene_symbols', make_unique:bool=True, cache:bool=False, cache_compression:Union[scanpy._compat.Literal_, NoneType, scanpy._utils.Empty]=<Empty.token: 0>, gex_only:bool=True) -> anndata._core.anndata.AnnData\n",
            "    Read 10x-Genomics-formatted mtx directory.\n",
            "    \n",
            "    Parameters\n",
            "    ----------\n",
            "    path\n",
            "        Path to directory for `.mtx` and `.tsv` files,\n",
            "        e.g. './filtered_gene_bc_matrices/hg19/'.\n",
            "    var_names\n",
            "        The variables index.\n",
            "    make_unique\n",
            "        Whether to make the variables index unique by appending '-1',\n",
            "        '-2' etc. or not.\n",
            "    cache\n",
            "        If `False`, read from source, if `True`, read from fast 'h5ad' cache.\n",
            "    cache_compression\n",
            "        See the h5py :ref:`dataset_compression`.\n",
            "        (Default: `settings.cache_compression`)\n",
            "    gex_only\n",
            "        Only keep 'Gene Expression' data and ignore other feature types,\n",
            "        e.g. 'Antibody Capture', 'CRISPR Guide Capture', or 'Custom'\n",
            "    \n",
            "    Returns\n",
            "    -------\n",
            "    An :class:`~anndata.AnnData` object\n",
            "\n"
          ],
          "name": "stdout"
        }
      ]
    },
    {
      "cell_type": "code",
      "metadata": {
        "id": "IA26uZ-9VUJz",
        "colab_type": "code",
        "colab": {
          "base_uri": "https://localhost:8080/",
          "height": 361
        },
        "outputId": "beb600f2-a140-4d09-d0de-56c88673f219"
      },
      "source": [
        "sc.pl.highest_expr_genes(adata,n_top=20) #  Fraction of counts assigned to each gene over all cells."
      ],
      "execution_count": 12,
      "outputs": [
        {
          "output_type": "display_data",
          "data": {
            "image/png": "[encoded data removed]",
            "text/plain": [
              "<Figure size 360x396 with 1 Axes>"
            ]
          },
          "metadata": {
            "tags": []
          }
        }
      ]
    },
    {
      "cell_type": "markdown",
      "metadata": {
        "id": "2mSBSkhAXgWk",
        "colab_type": "text"
      },
      "source": [
        "sc.pl.highest_expr_genes\n",
        "\n",
        "    Fraction of counts assigned to each gene over all cells.\n",
        "    \n",
        "    Computes, for each gene, the fraction of counts assigned to that gene within\n",
        "    a cell. The `n_top` genes with the highest mean fraction over all cells are\n",
        "    plotted as boxplots.\n",
        "    *We expect to see the “usual suspects”, i.e., mitochondrial genes, actin,\n",
        "    ribosomal protein, MALAT1. A few spike-in transcripts may also be\n",
        "    present here, though if all of the spike-ins are in the top 50, it\n",
        "    suggests that too much spike-in RNA was added. A large number of\n",
        "    pseudo-genes or predicted genes may indicate problems with alignment.*\n",
        "        -- Davis McCarthy and Aaron Lun"
      ]
    },
    {
      "cell_type": "code",
      "metadata": {
        "id": "uGM5PyZrWhhD",
        "colab_type": "code",
        "colab": {}
      },
      "source": [
        "sc.pp.filter_cells(adata, min_genes=200) # Filter cell outliers based on counts and numbers of genes expressed.\n",
        "sc.pp.filter_genes(adata, min_cells=3) #Filter genes based on number of cells or counts. Minimum number of cells expressed required for a gene to pass filtering."
      ],
      "execution_count": 0,
      "outputs": []
    },
    {
      "cell_type": "markdown",
      "metadata": {
        "id": "oIH0Td-BbL4y",
        "colab_type": "text"
      },
      "source": [
        "the reserved cells at least have 200 genese expressed\n",
        "and the genes left at least expressed in three cells"
      ]
    },
    {
      "cell_type": "code",
      "metadata": {
        "id": "dJXOje77Y4GG",
        "colab_type": "code",
        "colab": {
          "base_uri": "https://localhost:8080/",
          "height": 34
        },
        "outputId": "79a00a24-916c-4d5e-8c91-dac9927fc741"
      },
      "source": [
        "adata.n_obs"
      ],
      "execution_count": 16,
      "outputs": [
        {
          "output_type": "execute_result",
          "data": {
            "text/plain": [
              "2700"
            ]
          },
          "metadata": {
            "tags": []
          },
          "execution_count": 16
        }
      ]
    },
    {
      "cell_type": "code",
      "metadata": {
        "id": "ZXWJZY2kYM_s",
        "colab_type": "code",
        "colab": {}
      },
      "source": [
        "mito_genes = adata.var_names.str.startswith('MT-') # type(mito_genes) numpy.ndarray\n",
        "# for each cell compute fraction of counts in mito genes vs. all genes\n",
        "# the `.A1` is only necessary as X is sparse (to transform to a dense array after summing)\n",
        "adata.obs['percent_mito'] = np.sum(\n",
        "    adata[:, mito_genes].X, axis=1).A1 / np.sum(adata.X, axis=1).A1\n",
        "# add the total counts per cell as observations-annotation to adata\n",
        "adata.obs['n_counts'] = adata.X.sum(axis=1).A1"
      ],
      "execution_count": 0,
      "outputs": []
    },
    {
      "cell_type": "markdown",
      "metadata": {
        "id": "QuVpEuHJgI4m",
        "colab_type": "text"
      },
      "source": [
        "Numpy的主要数据类型是ndarray，即多维数组。它有以下几个属性：\n",
        "\n",
        "ndarray.ndim：数组的维数\n",
        "ndarray.shape：数组每一维的大小\n",
        "ndarray.size：数组中全部元素的数量\n",
        "ndarray.dtype：数组中元素的类型（numpy.int32, numpy.int16, and numpy.float64等）\n",
        "ndarray.itemsize：每个元素占几个字节"
      ]
    },
    {
      "cell_type": "markdown",
      "metadata": {
        "id": "pUazrGrfjrUY",
        "colab_type": "text"
      },
      "source": [
        "AnnData 用了一些广义的单词来描述「细胞」和「基因」：将细胞称为观察值 observations ，将基因称为变量 variables\n",
        "\n",
        "•adata.X 存储 count matrix，数据类型为稀疏矩阵 scipy.sparse.csr.csr_matrix\n",
        "\n",
        "•adata.obs 存储关于 obervations(cells) 的 metadata，数据类型为 dataframe\n",
        "\n",
        "adata.var 存储关于 variables(genes) 的 metadata，数据类型为 dataframe\n",
        "\n",
        "\n",
        "\n",
        "AnnData.uns 存储后续附加的其他非结构化信息\n",
        "\n",
        "•adata.obs_names 和 adata.var_names index\n",
        "\n",
        "\n",
        "细胞名和基因名可分别通过 adata.obs_names 和 adata.var_names 查看。 AnnData 对象可以像 dataframe 一样进行切片操作，例如，adata_subset = adata[:, list_of_gene_names]。"
      ]
    },
    {
      "cell_type": "code",
      "metadata": {
        "id": "pq6i1hN5frkn",
        "colab_type": "code",
        "colab": {
          "base_uri": "https://localhost:8080/",
          "height": 901
        },
        "outputId": "adfc46d3-51da-44f5-8ba6-dd1c8303d889"
      },
      "source": [
        "print(adata[:,mito_genes].X)"
      ],
      "execution_count": 45,
      "outputs": [
        {
          "output_type": "stream",
          "text": [
            "ERROR! Session/line number was not unique in database. History logging moved to new session 60\n",
            "  (0, 0)\t8.0\n",
            "  (0, 1)\t3.0\n",
            "  (0, 2)\t25.0\n",
            "  (0, 3)\t10.0\n",
            "  (0, 5)\t6.0\n",
            "  (0, 6)\t5.0\n",
            "  (0, 7)\t1.0\n",
            "  (0, 9)\t10.0\n",
            "  (0, 10)\t1.0\n",
            "  (0, 12)\t4.0\n",
            "  (1, 0)\t8.0\n",
            "  (1, 1)\t10.0\n",
            "  (1, 2)\t44.0\n",
            "  (1, 3)\t53.0\n",
            "  (1, 5)\t12.0\n",
            "  (1, 6)\t15.0\n",
            "  (1, 7)\t2.0\n",
            "  (1, 9)\t33.0\n",
            "  (1, 10)\t1.0\n",
            "  (1, 12)\t8.0\n",
            "  (2, 0)\t4.0\n",
            "  (2, 1)\t2.0\n",
            "  (2, 2)\t7.0\n",
            "  (2, 3)\t2.0\n",
            "  (2, 6)\t4.0\n",
            "  :\t:\n",
            "  (2696, 6)\t7.0\n",
            "  (2696, 8)\t1.0\n",
            "  (2696, 9)\t2.0\n",
            "  (2696, 10)\t1.0\n",
            "  (2696, 12)\t4.0\n",
            "  (2697, 1)\t2.0\n",
            "  (2697, 2)\t9.0\n",
            "  (2697, 3)\t4.0\n",
            "  (2697, 5)\t4.0\n",
            "  (2697, 6)\t7.0\n",
            "  (2697, 9)\t7.0\n",
            "  (2697, 12)\t4.0\n",
            "  (2698, 0)\t1.0\n",
            "  (2698, 1)\t2.0\n",
            "  (2698, 2)\t12.0\n",
            "  (2698, 5)\t2.0\n",
            "  (2698, 6)\t2.0\n",
            "  (2698, 8)\t1.0\n",
            "  (2698, 12)\t1.0\n",
            "  (2699, 0)\t3.0\n",
            "  (2699, 1)\t1.0\n",
            "  (2699, 2)\t7.0\n",
            "  (2699, 6)\t1.0\n",
            "  (2699, 9)\t1.0\n",
            "  (2699, 12)\t3.0\n"
          ],
          "name": "stdout"
        }
      ]
    },
    {
      "cell_type": "code",
      "metadata": {
        "id": "yZHwUmH7oinF",
        "colab_type": "code",
        "colab": {}
      },
      "source": [
        ""
      ],
      "execution_count": 0,
      "outputs": []
    }
  ]
}